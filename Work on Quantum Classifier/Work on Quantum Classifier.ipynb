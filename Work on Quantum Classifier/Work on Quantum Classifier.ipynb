{
 "cells": [
  {
   "cell_type": "markdown",
   "metadata": {},
   "source": [
    "# <center> Work on Quantum Classifier <center>"
   ]
  },
  {
   "cell_type": "code",
   "execution_count": 7,
   "metadata": {
    "scrolled": true
   },
   "outputs": [
    {
     "name": "stdout",
     "output_type": "stream",
     "text": [
      "Requirement already satisfied: pennylane in c:\\users\\macbi\\anaconda3\\lib\\site-packages (0.12.0)\n",
      "Requirement already satisfied: numpy in c:\\users\\macbi\\anaconda3\\lib\\site-packages (from pennylane) (1.18.5)\n",
      "Requirement already satisfied: appdirs in c:\\users\\macbi\\anaconda3\\lib\\site-packages (from pennylane) (1.4.4)\n",
      "Requirement already satisfied: semantic-version==2.6 in c:\\users\\macbi\\anaconda3\\lib\\site-packages (from pennylane) (2.6.0)\n",
      "Requirement already satisfied: toml in c:\\users\\macbi\\anaconda3\\lib\\site-packages (from pennylane) (0.10.1)\n",
      "Requirement already satisfied: autograd in c:\\users\\macbi\\anaconda3\\lib\\site-packages (from pennylane) (1.3)\n",
      "Requirement already satisfied: scipy in c:\\users\\macbi\\anaconda3\\lib\\site-packages (from pennylane) (1.4.1)\n",
      "Requirement already satisfied: networkx in c:\\users\\macbi\\anaconda3\\lib\\site-packages (from pennylane) (2.5)\n",
      "Requirement already satisfied: future>=0.15.2 in c:\\users\\macbi\\anaconda3\\lib\\site-packages (from autograd->pennylane) (0.18.2)\n",
      "Requirement already satisfied: decorator>=4.3.0 in c:\\users\\macbi\\anaconda3\\lib\\site-packages (from networkx->pennylane) (4.4.2)\n"
     ]
    }
   ],
   "source": [
    "!pip install pennylane"
   ]
  },
  {
   "cell_type": "code",
   "execution_count": 8,
   "metadata": {},
   "outputs": [],
   "source": [
    "import sys \n",
    "import numpy as np\n",
    "import matplotlib.pyplot as plt\n",
    "import pennylane as qml\n",
    "from pennylane import numpy as np"
   ]
  },
  {
   "cell_type": "code",
   "execution_count": 9,
   "metadata": {},
   "outputs": [],
   "source": [
    "#Prime Factorization\n",
    "def factorizer(n) : \n",
    "  v = []\n",
    "  n = int(n)\n",
    "  out = ''\n",
    "  for i in range(1000) : \n",
    "    v.append(1)\n",
    "\n",
    "  for j in range(2, n) : \n",
    "    if v[j] : \n",
    "      k = 2\n",
    "      while k * j <= n :\n",
    "        v[k * j] = 0\n",
    "        k += 1\n",
    "\n",
    "  for i in range(2, n) : \n",
    "      if v[i] : \n",
    "        out += str(i) + ''\n",
    "\n",
    "  return out"
   ]
  },
  {
   "cell_type": "code",
   "execution_count": 10,
   "metadata": {},
   "outputs": [
    {
     "name": "stdout",
     "output_type": "stream",
     "text": [
      "2357\n"
     ]
    }
   ],
   "source": [
    "n = int(9)\n",
    "print(factorizer(n))"
   ]
  },
  {
   "cell_type": "code",
   "execution_count": 11,
   "metadata": {},
   "outputs": [
    {
     "name": "stdout",
     "output_type": "stream",
     "text": [
      "23\n"
     ]
    }
   ],
   "source": [
    "n = int(5)\n",
    "print(factorizer(n))"
   ]
  },
  {
   "cell_type": "code",
   "execution_count": 12,
   "metadata": {},
   "outputs": [
    {
     "name": "stdout",
     "output_type": "stream",
     "text": [
      "[1.6796875e-01 1.3022459e-03 1.3027369e-03 1.3035553e-03 1.3047025e-03\n",
      " 1.3061815e-03 1.3079941e-03 1.3101412e-03 1.3126278e-03 1.3154586e-03\n",
      " 1.3186365e-03 1.3221672e-03 1.3260565e-03 1.3303105e-03 1.3349367e-03\n",
      " 1.3399416e-03 1.3453360e-03 1.3511259e-03 1.3573236e-03 1.3639394e-03\n",
      " 1.3709842e-03 1.3784715e-03 1.3864142e-03 1.3948291e-03 1.4037305e-03\n",
      " 1.4131356e-03 1.4230633e-03 1.4335347e-03 1.4445705e-03 1.4561944e-03\n",
      " 1.4684314e-03 1.4813092e-03 1.4948571e-03 1.5091076e-03 1.5240939e-03\n",
      " 1.5398547e-03 1.5564300e-03 1.5738652e-03 1.5922063e-03 1.6115061e-03\n",
      " 1.6318221e-03 1.6532179e-03 1.6757584e-03 1.6995191e-03 1.7245783e-03\n",
      " 1.7510355e-03 1.7789828e-03 1.8085327e-03 1.8398035e-03 1.8729328e-03\n",
      " 1.9080710e-03 1.9453851e-03 1.9850621e-03 2.0273167e-03 2.0723834e-03\n",
      " 2.1205326e-03 2.1720717e-03 2.2273508e-03 2.2867697e-03 2.3507902e-03\n",
      " 2.4199474e-03 2.4948642e-03 2.5762671e-03 2.6650182e-03 2.7621358e-03\n",
      " 2.8688421e-03 2.9866099e-03 3.1172335e-03 3.2629212e-03 3.4264226e-03\n",
      " 3.6112044e-03 3.8216959e-03 4.0636603e-03 4.3447288e-03 4.6752202e-03\n",
      " 5.0694533e-03 5.5478793e-03 6.1407629e-03 6.8948823e-03 7.8865513e-03\n",
      " 9.2493175e-03 1.1240001e-02 1.4423610e-02 2.0333719e-02 3.5104629e-02\n",
      " 1.3848211e-01 6.8262734e-02 2.6909409e-02 1.6568165e-02 1.1865336e-02\n",
      " 9.1761071e-03 7.4343523e-03 6.2136184e-03 5.3099422e-03 4.6134987e-03\n",
      " 4.0599010e-03 3.6089045e-03 3.2340614e-03 2.9172716e-03 2.6457293e-03\n",
      " 2.4101199e-03 2.2035013e-03 2.0205944e-03 1.8573164e-03 1.7104505e-03\n",
      " 1.5774342e-03 1.4561968e-03 1.3450471e-03 1.2425877e-03 1.1476539e-03\n",
      " 1.0592663e-03 9.7659347e-04 8.9892471e-04 8.2564744e-04 7.5623271e-04\n",
      " 6.9021108e-04 6.2717817e-04 5.6676567e-04 5.0865434e-04 4.5254696e-04\n",
      " 3.9818100e-04 3.4531392e-04 2.9371984e-04 2.4319139e-04 1.9353349e-04\n",
      " 1.4456204e-04 9.6092743e-05 4.7962450e-05 4.2717566e-17 4.7962450e-05\n",
      " 9.6092743e-05 1.4456204e-04 1.9353349e-04 2.4319139e-04 2.9371984e-04\n",
      " 3.4531392e-04 3.9818100e-04 4.5254696e-04 5.0865434e-04 5.6676567e-04\n",
      " 6.2717817e-04 6.9021108e-04 7.5623271e-04 8.2564744e-04 8.9892471e-04\n",
      " 9.7659347e-04 1.0592663e-03 1.1476539e-03 1.2425877e-03 1.3450471e-03\n",
      " 1.4561968e-03 1.5774342e-03 1.7104505e-03 1.8573164e-03 2.0205944e-03\n",
      " 2.2035013e-03 2.4101199e-03 2.6457293e-03 2.9172716e-03 3.2340614e-03\n",
      " 3.6089045e-03 4.0599010e-03 4.6134987e-03 5.3099422e-03 6.2136184e-03\n",
      " 7.4343523e-03 9.1761071e-03 1.1865336e-02 1.6568165e-02 2.6909409e-02\n",
      " 6.8262734e-02 1.3848211e-01 3.5104629e-02 2.0333719e-02 1.4423610e-02\n",
      " 1.1240001e-02 9.2493175e-03 7.8865513e-03 6.8948823e-03 6.1407629e-03\n",
      " 5.5478793e-03 5.0694533e-03 4.6752202e-03 4.3447288e-03 4.0636603e-03\n",
      " 3.8216959e-03 3.6112044e-03 3.4264226e-03 3.2629212e-03 3.1172335e-03\n",
      " 2.9866099e-03 2.8688421e-03 2.7621358e-03 2.6650182e-03 2.5762671e-03\n",
      " 2.4948642e-03 2.4199474e-03 2.3507902e-03 2.2867697e-03 2.2273508e-03\n",
      " 2.1720717e-03 2.1205326e-03 2.0723834e-03 2.0273167e-03 1.9850621e-03\n",
      " 1.9453851e-03 1.9080710e-03 1.8729328e-03 1.8398035e-03 1.8085327e-03\n",
      " 1.7789828e-03 1.7510355e-03 1.7245783e-03 1.6995191e-03 1.6757584e-03\n",
      " 1.6532179e-03 1.6318221e-03 1.6115061e-03 1.5922063e-03 1.5738652e-03\n",
      " 1.5564300e-03 1.5398547e-03 1.5240939e-03 1.5091076e-03 1.4948571e-03\n",
      " 1.4813092e-03 1.4684314e-03 1.4561944e-03 1.4445705e-03 1.4335347e-03\n",
      " 1.4230633e-03 1.4131356e-03 1.4037305e-03 1.3948291e-03 1.3864142e-03\n",
      " 1.3784715e-03 1.3709842e-03 1.3639394e-03 1.3573236e-03 1.3511259e-03\n",
      " 1.3453360e-03 1.3399416e-03 1.3349367e-03 1.3303105e-03 1.3260565e-03\n",
      " 1.3221672e-03 1.3186365e-03 1.3154586e-03 1.3126278e-03 1.3101412e-03\n",
      " 1.3079941e-03 1.3061815e-03 1.3047025e-03 1.3035553e-03 1.3027369e-03\n",
      " 1.3022459e-03 1.6796875e-01 1.3022459e-03 1.3027369e-03 1.3035553e-03\n",
      " 1.3047025e-03 1.3061815e-03 1.3079941e-03 1.3101412e-03 1.3126278e-03\n",
      " 1.3154586e-03 1.3186365e-03 1.3221672e-03 1.3260565e-03 1.3303105e-03\n",
      " 1.3349367e-03 1.3399416e-03 1.3453360e-03 1.3511259e-03 1.3573236e-03\n",
      " 1.3639394e-03 1.3709842e-03 1.3784715e-03 1.3864142e-03 1.3948291e-03\n",
      " 1.4037305e-03 1.4131356e-03 1.4230633e-03 1.4335347e-03 1.4445705e-03\n",
      " 1.4561944e-03 1.4684314e-03 1.4813092e-03 1.4948571e-03 1.5091076e-03\n",
      " 1.5240939e-03 1.5398547e-03 1.5564300e-03 1.5738652e-03 1.5922063e-03\n",
      " 1.6115061e-03 1.6318221e-03 1.6532179e-03 1.6757584e-03 1.6995191e-03\n",
      " 1.7245783e-03 1.7510355e-03 1.7789828e-03 1.8085327e-03 1.8398035e-03\n",
      " 1.8729328e-03 1.9080710e-03 1.9453851e-03 1.9850621e-03 2.0273167e-03\n",
      " 2.0723834e-03 2.1205326e-03 2.1720717e-03 2.2273508e-03 2.2867697e-03\n",
      " 2.3507902e-03 2.4199474e-03 2.4948642e-03 2.5762671e-03 2.6650182e-03\n",
      " 2.7621358e-03 2.8688421e-03 2.9866099e-03 3.1172335e-03 3.2629212e-03\n",
      " 3.4264226e-03 3.6112044e-03 3.8216959e-03 4.0636603e-03 4.3447288e-03\n",
      " 4.6752202e-03 5.0694533e-03 5.5478793e-03 6.1407629e-03 6.8948823e-03\n",
      " 7.8865513e-03 9.2493175e-03 1.1240001e-02 1.4423610e-02 2.0333719e-02\n",
      " 3.5104629e-02 1.3848211e-01 6.8262734e-02 2.6909409e-02 1.6568165e-02\n",
      " 1.1865336e-02 9.1761071e-03 7.4343523e-03 6.2136184e-03 5.3099422e-03\n",
      " 4.6134987e-03 4.0599010e-03 3.6089045e-03 3.2340614e-03 2.9172716e-03\n",
      " 2.6457293e-03 2.4101199e-03 2.2035013e-03 2.0205944e-03 1.8573164e-03\n",
      " 1.7104505e-03 1.5774342e-03 1.4561968e-03 1.3450471e-03 1.2425877e-03\n",
      " 1.1476539e-03 1.0592663e-03 9.7659347e-04 8.9892471e-04 8.2564744e-04\n",
      " 7.5623271e-04 6.9021108e-04 6.2717817e-04 5.6676567e-04 5.0865434e-04\n",
      " 4.5254696e-04 3.9818100e-04 3.4531392e-04 2.9371984e-04 2.4319139e-04\n",
      " 1.9353349e-04 1.4456204e-04 9.6092743e-05 4.7962450e-05 1.0885390e-16\n",
      " 4.7962450e-05 9.6092743e-05 1.4456204e-04 1.9353349e-04 2.4319139e-04\n",
      " 2.9371984e-04 3.4531392e-04 3.9818100e-04 4.5254696e-04 5.0865434e-04\n",
      " 5.6676567e-04 6.2717817e-04 6.9021108e-04 7.5623271e-04 8.2564744e-04\n",
      " 8.9892471e-04 9.7659347e-04 1.0592663e-03 1.1476539e-03 1.2425877e-03\n",
      " 1.3450471e-03 1.4561968e-03 1.5774342e-03 1.7104505e-03 1.8573164e-03\n",
      " 2.0205944e-03 2.2035013e-03 2.4101199e-03 2.6457293e-03 2.9172716e-03\n",
      " 3.2340614e-03 3.6089045e-03 4.0599010e-03 4.6134987e-03 5.3099422e-03\n",
      " 6.2136184e-03 7.4343523e-03 9.1761071e-03 1.1865336e-02 1.6568165e-02\n",
      " 2.6909409e-02 6.8262734e-02 1.3848211e-01 3.5104629e-02 2.0333719e-02\n",
      " 1.4423610e-02 1.1240001e-02 9.2493175e-03 7.8865513e-03 6.8948823e-03\n",
      " 6.1407629e-03 5.5478793e-03 5.0694533e-03 4.6752202e-03 4.3447288e-03\n",
      " 4.0636603e-03 3.8216959e-03 3.6112044e-03 3.4264226e-03 3.2629212e-03\n",
      " 3.1172335e-03 2.9866099e-03 2.8688421e-03 2.7621358e-03 2.6650182e-03\n",
      " 2.5762671e-03 2.4948642e-03 2.4199474e-03 2.3507902e-03 2.2867697e-03\n",
      " 2.2273508e-03 2.1720717e-03 2.1205326e-03 2.0723834e-03 2.0273167e-03\n",
      " 1.9850621e-03 1.9453851e-03 1.9080710e-03 1.8729328e-03 1.8398035e-03\n",
      " 1.8085327e-03 1.7789828e-03 1.7510355e-03 1.7245783e-03 1.6995191e-03\n",
      " 1.6757584e-03 1.6532179e-03 1.6318221e-03 1.6115061e-03 1.5922063e-03\n",
      " 1.5738652e-03 1.5564300e-03 1.5398547e-03 1.5240939e-03 1.5091076e-03\n",
      " 1.4948571e-03 1.4813092e-03 1.4684314e-03 1.4561944e-03 1.4445705e-03\n",
      " 1.4335347e-03 1.4230633e-03 1.4131356e-03 1.4037305e-03 1.3948291e-03\n",
      " 1.3864142e-03 1.3784715e-03 1.3709842e-03 1.3639394e-03 1.3573236e-03\n",
      " 1.3511259e-03 1.3453360e-03 1.3399416e-03 1.3349367e-03 1.3303105e-03\n",
      " 1.3260565e-03 1.3221672e-03 1.3186365e-03 1.3154586e-03 1.3126278e-03\n",
      " 1.3101412e-03 1.3079941e-03 1.3061815e-03 1.3047025e-03 1.3035553e-03\n",
      " 1.3027369e-03 1.3022459e-03]\n",
      "0.16796875\n",
      "0.13848211\n",
      "0.06826273\n"
     ]
    }
   ],
   "source": [
    "#Shor's Algorithm\n",
    "def Hadamard(n) : \n",
    "  def Hn(H = np.array([[1, 1], [1, -1]], dtype = np.complex64), n = n) : \n",
    "    if n > 1 : \n",
    "      return Hn(H = np.kron(np.array([[1, 1], [1, -1]], dtype = np.complex64), H), n = n - 1)\n",
    "    return H\n",
    "\n",
    "  return Hn(n = n)\n",
    "\n",
    "def QFT(t) :\n",
    "  Q = np.zeros(shape = (2 ** t, 2 ** t), dtype = np.complex64)\n",
    "  N = 2 ** t\n",
    "  for i in range(N) : \n",
    "    for j in range(N) : \n",
    "      Q[i][j] = np.exp(np.pi * 2j * ((i * j) % N) / N)\n",
    "\n",
    "  return Q\n",
    "\n",
    "\n",
    "N = 21\n",
    "t = 9\n",
    "H = Hadamard(t)\n",
    "\n",
    "reg1 = np.zeros(shape = (2 ** t), dtype = np.complex64)\n",
    "reg2 = np.ones(shape = (2 ** t), dtype = np.complex64)\n",
    "reg1[0] = 1\n",
    "reg1 = H.dot(reg1)\n",
    "\n",
    "for i in range(2 ** t) : \n",
    "  reg2[i] = 2 ** i % N\n",
    "\n",
    "r = reg2[0]\n",
    "\n",
    "for i in range(2 ** t) : \n",
    "  if reg2[i] != r :\n",
    "    reg1[i] = 0\n",
    "\n",
    "Q = QFT(9)\n",
    "reg1 = np.linalg.inv(Q).dot(reg1)\n",
    "print(abs(reg1))\n",
    "print(abs(reg1[0]))\n",
    "print(abs(reg1[85]))\n",
    "print(abs(reg1[86]))"
   ]
  },
  {
   "cell_type": "code",
   "execution_count": 13,
   "metadata": {},
   "outputs": [
    {
     "data": {
      "image/png": "[encoded data removed]",
      "text/plain": [
       "<Figure size 432x288 with 1 Axes>"
      ]
     },
     "metadata": {
      "needs_background": "light"
     },
     "output_type": "display_data"
    }
   ],
   "source": [
    "fig, ax = plt.subplots(nrows = 1, ncols = 1)\n",
    "ax.plot(abs(reg1))\n",
    "plt.show()"
   ]
  },
  {
   "cell_type": "code",
   "execution_count": 6,
   "metadata": {},
   "outputs": [
    {
     "name": "stdout",
     "output_type": "stream",
     "text": [
      "0.45039465275606094\n",
      "0.9994700584297429\n",
      "Cost after step     5 : -0.6860713\n",
      "Cost after step    10 : -0.7794672\n",
      "Cost after step    15 : -0.9927786\n",
      "Cost after step    20 : -0.9999548\n",
      "Cost after step    25 : -0.9999997\n",
      "Cost after step    30 : -1.0000000\n",
      "Cost after step    35 : -1.0000000\n",
      "Cost after step    40 : -1.0000000\n",
      "Cost after step    45 : -1.0000000\n",
      "Cost after step    50 : -1.0000000\n",
      "Cost after step    55 : -1.0000000\n",
      "Cost after step    60 : -1.0000000\n",
      "Cost after step    65 : -1.0000000\n",
      "Cost after step    70 : -1.0000000\n",
      "Cost after step    75 : -1.0000000\n",
      "Cost after step    80 : -1.0000000\n",
      "Cost after step    85 : -1.0000000\n",
      "Cost after step    90 : -1.0000000\n",
      "Cost after step    95 : -1.0000000\n",
      "Cost after step   100 : -1.0000000\n",
      "Optimized rotation angles : [8.37226027e-17 1.57079633e+00]\n"
     ]
    }
   ],
   "source": [
    "#Work on Quantum computing applied to Machine Learning\n",
    "dev1 = qml.device('default.qubit', wires=1)\n",
    "@qml.qnode(dev1)\n",
    "def circuit(params) : \n",
    "  qml.RX(params[0], wires = 0)\n",
    "  qml.RY(params[1], wires = 0)\n",
    "  qml.RX(params[0], wires = 0)\n",
    "  qml.RY(params[1], wires = 0)\n",
    "  return qml.expval(qml.PauliZ(0))\n",
    "\n",
    "print(circuit([0.54, 0.12]))\n",
    "\n",
    "def cost(x) : \n",
    "  return circuit(x)\n",
    "\n",
    "init_params = np.array([0.011, 0.012])\n",
    "print(cost(init_params))\n",
    "\n",
    "opt = qml.GradientDescentOptimizer(stepsize = 0.4)\n",
    "steps = 100\n",
    "params = init_params\n",
    "\n",
    "for i in range(steps) :\n",
    "  params = opt.step(cost, params)\n",
    "\n",
    "  if (i + 1) % 5 == 0:\n",
    "    print('Cost after step {:5d} : {: .7f}'.format(i + 1, cost(params)))\n",
    "\n",
    "print('Optimized rotation angles : {}'.format(params))"
   ]
  }
 ],
 "metadata": {
  "kernelspec": {
   "display_name": "Python 3",
   "language": "python",
   "name": "python3"
  },
  "language_info": {
   "codemirror_mode": {
    "name": "ipython",
    "version": 3
   },
   "file_extension": ".py",
   "mimetype": "text/x-python",
   "name": "python",
   "nbconvert_exporter": "python",
   "pygments_lexer": "ipython3",
   "version": "3.7.7"
  }
 },
 "nbformat": 4,
 "nbformat_minor": 4
}
